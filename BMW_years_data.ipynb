{
  "nbformat": 4,
  "nbformat_minor": 0,
  "metadata": {
    "colab": {
      "provenance": [],
      "authorship_tag": "ABX9TyMmmtx6+roxb1BPZU4BpALC",
      "include_colab_link": true
    },
    "kernelspec": {
      "name": "python3",
      "display_name": "Python 3"
    },
    "language_info": {
      "name": "python"
    }
  },
  "cells": [
    {
      "cell_type": "markdown",
      "metadata": {
        "id": "view-in-github",
        "colab_type": "text"
      },
      "source": [
        "<a href=\"https://colab.research.google.com/github/nansjames/BMWDataAnalysing/blob/master/BMW_years_data.ipynb\" target=\"_parent\"><img src=\"https://colab.research.google.com/assets/colab-badge.svg\" alt=\"Open In Colab\"/></a>"
      ]
    },
    {
      "cell_type": "code",
      "execution_count": null,
      "metadata": {
        "id": "DQGs3EmWxyUs"
      },
      "outputs": [],
      "source": [
        "import numpy as np\n",
        "import pandas as pd\n",
        "import csv\n",
        "import re\n",
        "# Replace 'your_excel_file.xlsx' with the actual path to your Excel file\n",
        "file_name = 'Financial-statements-2021'\n",
        "column_name = 'links'\n",
        "df = pd.read_csv('/content/sample_data/bmwgroup_url.csv')\n",
        "\n",
        "# Display the DataFrame\n",
        "df.columns\n",
        "df_links = df['links']\n",
        "\n",
        "for link in df_links:\n",
        "\n",
        "  df = pd.read_excel(link, engine='openpyxl')\n",
        "\n",
        "print(df)"
      ]
    }
  ]
}