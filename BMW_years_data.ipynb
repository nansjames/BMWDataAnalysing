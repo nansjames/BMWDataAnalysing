{
  "nbformat": 4,
  "nbformat_minor": 0,
  "metadata": {
    "colab": {
      "provenance": [],
      "authorship_tag": "ABX9TyMLzUqorOt1u3pnP93wNi3H",
      "include_colab_link": true
    },
    "kernelspec": {
      "name": "python3",
      "display_name": "Python 3"
    },
    "language_info": {
      "name": "python"
    }
  },
  "cells": [
    {
      "cell_type": "markdown",
      "metadata": {
        "id": "view-in-github",
        "colab_type": "text"
      },
      "source": [
        "<a href=\"https://colab.research.google.com/github/nansjames/BMWDataAnalysing/blob/master/BMW_years_data.ipynb\" target=\"_parent\"><img src=\"https://colab.research.google.com/assets/colab-badge.svg\" alt=\"Open In Colab\"/></a>"
      ]
    },
    {
      "cell_type": "code",
      "execution_count": 103,
      "metadata": {
        "id": "DQGs3EmWxyUs"
      },
      "outputs": [],
      "source": [
        "from google.oauth2 import service_account\n",
        "from googleapiclient.discovery import build\n",
        "\n",
        "\n",
        "SERVICE_ACCOUNT_FILE = '/content/sample_data/credentials (2).json'\n",
        "SCOPES = ['https://www.googleapis.com/auth/drive.readonly']\n",
        "\n",
        "credentials = None\n",
        "credentials = service_account.Credentials.from_service_account_file(\n",
        "        SERVICE_ACCOUNT_FILE, scopes=SCOPES)\n",
        "\n",
        "drive = build('drive', 'v3', credentials=credentials)\n"
      ]
    },
    {
      "cell_type": "code",
      "source": [
        "def get_all_sheets_in_folder():\n",
        "    drive = build('drive', 'v3', credentials=credentials)\n",
        "    sheetMymeType = \"application/vnd.google-apps.spreadsheet\"\n",
        "    parent = '1ijfQpSgwwTXSRtG4n4dOGT16CNVCDg8k'\n",
        "    q = \"mimeType = '{}' and parents in '{}'\".format(sheetMymeType, parent)\n",
        "    list = drive.files().list(q=q, fields=\"files(id, name, webViewLink)\").execute()\n",
        "    print(list)"
      ],
      "metadata": {
        "id": "djS_j4LWdLO8"
      },
      "execution_count": 105,
      "outputs": []
    },
    {
      "cell_type": "code",
      "source": [
        "from google.colab import drive\n",
        "\n",
        "# Mount Google Drive\n",
        "drive.mount('/content/drive')"
      ],
      "metadata": {
        "id": "e9xzhD_mg8CO",
        "outputId": "6899047b-4916-4a0a-cd7c-118f943e74a9",
        "colab": {
          "base_uri": "https://localhost:8080/"
        }
      },
      "execution_count": 106,
      "outputs": [
        {
          "output_type": "stream",
          "name": "stdout",
          "text": [
            "Mounted at /content/drive\n"
          ]
        }
      ]
    },
    {
      "cell_type": "code",
      "source": [
        "from googleapiclient.discovery import build\n",
        "from google.colab import auth\n",
        "\n",
        "# Authenticate\n",
        "auth.authenticate_user()\n",
        "\n",
        "# Build the Google Drive service\n",
        "drive_service = build('drive', 'v3')\n",
        "file_dict = {}\n",
        "# Specify the folder ID from the URL\n",
        "folder_id = '1ijfQpSgwwTXSRtG4n4dOGT16CNVCDg8k'\n",
        "dict_list = []\n",
        "# List files in the folder\n",
        "results = drive_service.files().list(\n",
        "    q=f\"'{folder_id}' in parents\",\n",
        "    fields=\"files(id, name, mimeType)\"\n",
        ").execute()\n",
        "\n",
        "# Print the list of files\n",
        "for file in results.get('files', []):\n",
        "    file_dict = { \"Name\": {file['name']}, \"ID\": {file['id']}, \"Type\": {file['mimeType']}}\n",
        "    dict_list.append(file_dict)\n",
        "    print(file_year_dict)\n",
        "    print(f\"Name: {file['name']}, ID: {file['id']}, Type: {file['mimeType']}\")"
      ],
      "metadata": {
        "id": "yZMNMRCchCbj"
      },
      "execution_count": null,
      "outputs": []
    },
    {
      "cell_type": "code",
      "source": [
        "!pip install gspread"
      ],
      "metadata": {
        "id": "OYLlzT1_hIuU",
        "outputId": "3b8b15a7-c7ba-4c8d-ddc3-99585382fa22",
        "colab": {
          "base_uri": "https://localhost:8080/"
        }
      },
      "execution_count": 108,
      "outputs": [
        {
          "output_type": "stream",
          "name": "stdout",
          "text": [
            "Requirement already satisfied: gspread in /usr/local/lib/python3.10/dist-packages (5.4.0)\n",
            "Requirement already satisfied: google-auth>=1.12.0 in /usr/local/lib/python3.10/dist-packages (from gspread) (2.25.2)\n",
            "Requirement already satisfied: google-auth-oauthlib>=0.4.1 in /usr/local/lib/python3.10/dist-packages (from gspread) (1.2.0)\n",
            "Requirement already satisfied: cachetools<6.0,>=2.0.0 in /usr/local/lib/python3.10/dist-packages (from google-auth>=1.12.0->gspread) (5.3.2)\n",
            "Requirement already satisfied: pyasn1-modules>=0.2.1 in /usr/local/lib/python3.10/dist-packages (from google-auth>=1.12.0->gspread) (0.3.0)\n",
            "Requirement already satisfied: rsa<5,>=3.1.4 in /usr/local/lib/python3.10/dist-packages (from google-auth>=1.12.0->gspread) (4.9)\n",
            "Requirement already satisfied: requests-oauthlib>=0.7.0 in /usr/local/lib/python3.10/dist-packages (from google-auth-oauthlib>=0.4.1->gspread) (1.3.1)\n",
            "Requirement already satisfied: pyasn1<0.6.0,>=0.4.6 in /usr/local/lib/python3.10/dist-packages (from pyasn1-modules>=0.2.1->google-auth>=1.12.0->gspread) (0.5.1)\n",
            "Requirement already satisfied: oauthlib>=3.0.0 in /usr/local/lib/python3.10/dist-packages (from requests-oauthlib>=0.7.0->google-auth-oauthlib>=0.4.1->gspread) (3.2.2)\n",
            "Requirement already satisfied: requests>=2.0.0 in /usr/local/lib/python3.10/dist-packages (from requests-oauthlib>=0.7.0->google-auth-oauthlib>=0.4.1->gspread) (2.31.0)\n",
            "Requirement already satisfied: charset-normalizer<4,>=2 in /usr/local/lib/python3.10/dist-packages (from requests>=2.0.0->requests-oauthlib>=0.7.0->google-auth-oauthlib>=0.4.1->gspread) (3.3.2)\n",
            "Requirement already satisfied: idna<4,>=2.5 in /usr/local/lib/python3.10/dist-packages (from requests>=2.0.0->requests-oauthlib>=0.7.0->google-auth-oauthlib>=0.4.1->gspread) (3.6)\n",
            "Requirement already satisfied: urllib3<3,>=1.21.1 in /usr/local/lib/python3.10/dist-packages (from requests>=2.0.0->requests-oauthlib>=0.7.0->google-auth-oauthlib>=0.4.1->gspread) (2.0.7)\n",
            "Requirement already satisfied: certifi>=2017.4.17 in /usr/local/lib/python3.10/dist-packages (from requests>=2.0.0->requests-oauthlib>=0.7.0->google-auth-oauthlib>=0.4.1->gspread) (2023.11.17)\n"
          ]
        }
      ]
    },
    {
      "cell_type": "code",
      "source": [
        "# Extract only the \"Name\" values\n",
        "# names = [item['Name'].pop() for item in dict_list]\n",
        "yearly_sheet_id = [{'Name': d['Name'].pop(), 'ID': d['ID'].pop()} for d in dict_list]\n",
        "print(yearly_sheet_id)"
      ],
      "metadata": {
        "id": "GKYlEnjckPcm",
        "outputId": "eb6c322a-b650-4f86-c471-03fad170cf9b",
        "colab": {
          "base_uri": "https://localhost:8080/"
        }
      },
      "execution_count": 128,
      "outputs": [
        {
          "output_type": "stream",
          "name": "stdout",
          "text": [
            "[{'Name': 'Report_2019_A.xlsx', 'ID': '1Zmr71VV5uLtDbWjHD8FfzdR2QgVBF8ZQ'}, {'Name': 'feature_names.txt', 'ID': '1CYzZiNP8x4VK2wYz4GnVLxPbDzSTtSAK'}, {'Name': 'Report_2011_Q1.xlsx', 'ID': '1Fspe1GbQNaqrwV3OKNmbQumqP1JIOE_d'}, {'Name': 'Report_2021_A.xlsx', 'ID': '14T1fYHGUI2KMOaCC7yJQ3rL0yU7T4KuY'}, {'Name': 'Report_2011_A.xlsx', 'ID': '1zB_lUTu1-gjoDdL2ajbRcXcfECZksNpy'}, {'Name': 'Report_2012_Q1.xlsx', 'ID': '1ZgiGAZRt7ArGLruYpl6Grbqx4kU_m-yy'}, {'Name': 'Report_2016_A.xlsx', 'ID': '14aROylemgAoVRyt1z4Qfs6QtknIpX1Gq'}, {'Name': 'Report_2017_A.xlsx', 'ID': '1VaiDa5ihlQccCu-3q26as01bPVqZSq57'}, {'Name': 'Report_2018_A.xlsx', 'ID': '1HiZpN4bNZCqejgCS8GwHpleqZVKxvCHn'}, {'Name': 'Report_2020_A.xlsx', 'ID': '1SRIQWXW8VpO5D6knv0gp0gYi8G6SS9FT'}, {'Name': 'Report_2015_A.xlsx', 'ID': '1cZ7T8IPFNA4Xm291yIuo8VlK2KkuWygw'}, {'Name': 'Report_2012_A.xlsx', 'ID': '1Jm27IEeEgQZ35hvHvLt0REyNKO6nXsXn'}, {'Name': 'Report_2013_A.xls', 'ID': '1ajaoNHzCbk0NGLDHabXX4nMVw6UNPMzv'}, {'Name': 'Report_2014_A.xlsx', 'ID': '11RlecBaplQEJczC9cssfsVZh_00GgbOz'}, {'Name': 'Report_2014_A.xlsx', 'ID': '1NQTYcZBV0akxCmZEAHfKg_OKyzZnWoVI'}, {'Name': 'Report_2013_A.xlsx', 'ID': '1Fmx82tUCL9U8vjyNK9Mdj-sWWBj0s7d9'}, {'Name': 'Report_2012_A.xlsx', 'ID': '1c23wRANAySJUGzVLKGzLNfxbXBFSoURB'}, {'Name': 'Report_2011_Q2.xlsx', 'ID': '1NTArLFo-1ziNi4nFi0rBm1wIrsd3YcaS'}]\n"
          ]
        }
      ]
    },
    {
      "cell_type": "code",
      "source": [
        "file_year_list = []\n",
        "# Create a new list containing items with the letter \"A\"\n",
        "file_year_list = [item for item in yearly_sheet_id if 'A' in item[\"Name\"]]\n",
        "\n",
        "print(file_year_list)"
      ],
      "metadata": {
        "id": "M79ELWz0iB5U",
        "outputId": "fd4039a8-887b-450a-ccce-9b882aa1358a",
        "colab": {
          "base_uri": "https://localhost:8080/"
        }
      },
      "execution_count": 129,
      "outputs": [
        {
          "output_type": "stream",
          "name": "stdout",
          "text": [
            "[{'Name': 'Report_2019_A.xlsx', 'ID': '1Zmr71VV5uLtDbWjHD8FfzdR2QgVBF8ZQ'}, {'Name': 'Report_2021_A.xlsx', 'ID': '14T1fYHGUI2KMOaCC7yJQ3rL0yU7T4KuY'}, {'Name': 'Report_2011_A.xlsx', 'ID': '1zB_lUTu1-gjoDdL2ajbRcXcfECZksNpy'}, {'Name': 'Report_2016_A.xlsx', 'ID': '14aROylemgAoVRyt1z4Qfs6QtknIpX1Gq'}, {'Name': 'Report_2017_A.xlsx', 'ID': '1VaiDa5ihlQccCu-3q26as01bPVqZSq57'}, {'Name': 'Report_2018_A.xlsx', 'ID': '1HiZpN4bNZCqejgCS8GwHpleqZVKxvCHn'}, {'Name': 'Report_2020_A.xlsx', 'ID': '1SRIQWXW8VpO5D6knv0gp0gYi8G6SS9FT'}, {'Name': 'Report_2015_A.xlsx', 'ID': '1cZ7T8IPFNA4Xm291yIuo8VlK2KkuWygw'}, {'Name': 'Report_2012_A.xlsx', 'ID': '1Jm27IEeEgQZ35hvHvLt0REyNKO6nXsXn'}, {'Name': 'Report_2013_A.xls', 'ID': '1ajaoNHzCbk0NGLDHabXX4nMVw6UNPMzv'}, {'Name': 'Report_2014_A.xlsx', 'ID': '11RlecBaplQEJczC9cssfsVZh_00GgbOz'}, {'Name': 'Report_2014_A.xlsx', 'ID': '1NQTYcZBV0akxCmZEAHfKg_OKyzZnWoVI'}, {'Name': 'Report_2013_A.xlsx', 'ID': '1Fmx82tUCL9U8vjyNK9Mdj-sWWBj0s7d9'}, {'Name': 'Report_2012_A.xlsx', 'ID': '1c23wRANAySJUGzVLKGzLNfxbXBFSoURB'}]\n"
          ]
        }
      ]
    },
    {
      "cell_type": "code",
      "source": [
        "!pip install gspread"
      ],
      "metadata": {
        "id": "x0Igr0YQtIQ0",
        "outputId": "a9b54c62-a6f5-43f8-ec03-da7fa5d1ad64",
        "colab": {
          "base_uri": "https://localhost:8080/"
        }
      },
      "execution_count": 135,
      "outputs": [
        {
          "output_type": "stream",
          "name": "stdout",
          "text": [
            "Requirement already satisfied: gspread in /usr/local/lib/python3.10/dist-packages (5.4.0)\n",
            "Requirement already satisfied: google-auth>=1.12.0 in /usr/local/lib/python3.10/dist-packages (from gspread) (2.25.2)\n",
            "Requirement already satisfied: google-auth-oauthlib>=0.4.1 in /usr/local/lib/python3.10/dist-packages (from gspread) (1.2.0)\n",
            "Requirement already satisfied: cachetools<6.0,>=2.0.0 in /usr/local/lib/python3.10/dist-packages (from google-auth>=1.12.0->gspread) (5.3.2)\n",
            "Requirement already satisfied: pyasn1-modules>=0.2.1 in /usr/local/lib/python3.10/dist-packages (from google-auth>=1.12.0->gspread) (0.3.0)\n",
            "Requirement already satisfied: rsa<5,>=3.1.4 in /usr/local/lib/python3.10/dist-packages (from google-auth>=1.12.0->gspread) (4.9)\n",
            "Requirement already satisfied: requests-oauthlib>=0.7.0 in /usr/local/lib/python3.10/dist-packages (from google-auth-oauthlib>=0.4.1->gspread) (1.3.1)\n",
            "Requirement already satisfied: pyasn1<0.6.0,>=0.4.6 in /usr/local/lib/python3.10/dist-packages (from pyasn1-modules>=0.2.1->google-auth>=1.12.0->gspread) (0.5.1)\n",
            "Requirement already satisfied: oauthlib>=3.0.0 in /usr/local/lib/python3.10/dist-packages (from requests-oauthlib>=0.7.0->google-auth-oauthlib>=0.4.1->gspread) (3.2.2)\n",
            "Requirement already satisfied: requests>=2.0.0 in /usr/local/lib/python3.10/dist-packages (from requests-oauthlib>=0.7.0->google-auth-oauthlib>=0.4.1->gspread) (2.31.0)\n",
            "Requirement already satisfied: charset-normalizer<4,>=2 in /usr/local/lib/python3.10/dist-packages (from requests>=2.0.0->requests-oauthlib>=0.7.0->google-auth-oauthlib>=0.4.1->gspread) (3.3.2)\n",
            "Requirement already satisfied: idna<4,>=2.5 in /usr/local/lib/python3.10/dist-packages (from requests>=2.0.0->requests-oauthlib>=0.7.0->google-auth-oauthlib>=0.4.1->gspread) (3.6)\n",
            "Requirement already satisfied: urllib3<3,>=1.21.1 in /usr/local/lib/python3.10/dist-packages (from requests>=2.0.0->requests-oauthlib>=0.7.0->google-auth-oauthlib>=0.4.1->gspread) (2.0.7)\n",
            "Requirement already satisfied: certifi>=2017.4.17 in /usr/local/lib/python3.10/dist-packages (from requests>=2.0.0->requests-oauthlib>=0.7.0->google-auth-oauthlib>=0.4.1->gspread) (2023.11.17)\n"
          ]
        }
      ]
    },
    {
      "cell_type": "code",
      "source": [
        "import gspread\n",
        "import pandas as pd\n",
        "# Use the name or ID of the Google Sheets file\n",
        "spreadsheet_name = file_year_list\n",
        "spreadsheet_id = 'Your_Spreadsheet_ID'\n",
        "\n",
        "# Open the Google Sheets file\n",
        "\n",
        "from google.auth import default\n",
        "creds, _ = default()\n",
        "\n",
        "gc = gspread.authorize(creds)\n",
        "service = build('drive', 'v3', credentials=creds)\n",
        "for sheet_info in file_year_list:\n",
        "  sheet_id = sheet_info['ID']\n",
        "  file_metadata = {'name': sheet_info['Name'],'parents': '1ijfQpSgwwTXSRtG4n4dOGT16CNVCDg8k'}\n",
        "\n",
        "  #print(file)\n",
        "  if file[\"mimeType\"] == 'application/vnd.openxmlformats-officedocument.spreadsheetml.sheet' or file[\"mimeType\"] == 'application/vnd.ms-excel':\n",
        "    # sheet = gc.open_by_key(file[\"id\"]).sheet1\n",
        "    file = service.files().copy(fileId=sheet_id, body=file_metadata).execute()\n",
        "    df = pd.read_excel(pd.ExcelFile(file.get(0)), engine='openpyxl')\n",
        "    print(df)\n",
        "\n",
        "\n",
        "\n",
        "\n",
        "#     df = pd.read_excel(file.get(0), engine='openpyxl')  # XLSX\n",
        "# elif file.mimeType == 'application/vnd.ms-excel':\n",
        "#     df = pd.read_excel(file.read())  # XLS\n",
        "# elif file.mimeType == 'text/csv':\n",
        "#     df = pd.read_csv(file.read())  # CSV\n",
        "# else:\n",
        "#     raise Exception(\"File not supported\")"
      ],
      "metadata": {
        "id": "7IbMt1M6hNEa",
        "outputId": "b5fa35d7-e073-48ca-f738-e5fc6ba6358f",
        "colab": {
          "base_uri": "https://localhost:8080/",
          "height": 390
        }
      },
      "execution_count": 177,
      "outputs": [
        {
          "output_type": "error",
          "ename": "ValueError",
          "evalue": "ignored",
          "traceback": [
            "\u001b[0;31m---------------------------------------------------------------------------\u001b[0m",
            "\u001b[0;31mValueError\u001b[0m                                Traceback (most recent call last)",
            "\u001b[0;32m<ipython-input-177-57c19a6fc413>\u001b[0m in \u001b[0;36m<cell line: 14>\u001b[0;34m()\u001b[0m\n\u001b[1;32m     20\u001b[0m     \u001b[0;31m# sheet = gc.open_by_key(file[\"id\"]).sheet1\u001b[0m\u001b[0;34m\u001b[0m\u001b[0;34m\u001b[0m\u001b[0m\n\u001b[1;32m     21\u001b[0m     \u001b[0mfile\u001b[0m \u001b[0;34m=\u001b[0m \u001b[0mservice\u001b[0m\u001b[0;34m.\u001b[0m\u001b[0mfiles\u001b[0m\u001b[0;34m(\u001b[0m\u001b[0;34m)\u001b[0m\u001b[0;34m.\u001b[0m\u001b[0mcopy\u001b[0m\u001b[0;34m(\u001b[0m\u001b[0mfileId\u001b[0m\u001b[0;34m=\u001b[0m\u001b[0msheet_id\u001b[0m\u001b[0;34m,\u001b[0m \u001b[0mbody\u001b[0m\u001b[0;34m=\u001b[0m\u001b[0mfile_metadata\u001b[0m\u001b[0;34m)\u001b[0m\u001b[0;34m.\u001b[0m\u001b[0mexecute\u001b[0m\u001b[0;34m(\u001b[0m\u001b[0;34m)\u001b[0m\u001b[0;34m\u001b[0m\u001b[0;34m\u001b[0m\u001b[0m\n\u001b[0;32m---> 22\u001b[0;31m     \u001b[0mdf\u001b[0m \u001b[0;34m=\u001b[0m \u001b[0mpd\u001b[0m\u001b[0;34m.\u001b[0m\u001b[0mread_excel\u001b[0m\u001b[0;34m(\u001b[0m\u001b[0mpd\u001b[0m\u001b[0;34m.\u001b[0m\u001b[0mExcelFile\u001b[0m\u001b[0;34m(\u001b[0m\u001b[0mfile\u001b[0m\u001b[0;34m.\u001b[0m\u001b[0mget\u001b[0m\u001b[0;34m(\u001b[0m\u001b[0;36m0\u001b[0m\u001b[0;34m)\u001b[0m\u001b[0;34m)\u001b[0m\u001b[0;34m,\u001b[0m \u001b[0mengine\u001b[0m\u001b[0;34m=\u001b[0m\u001b[0;34m'openpyxl'\u001b[0m\u001b[0;34m)\u001b[0m\u001b[0;34m\u001b[0m\u001b[0;34m\u001b[0m\u001b[0m\n\u001b[0m\u001b[1;32m     23\u001b[0m     \u001b[0mprint\u001b[0m\u001b[0;34m(\u001b[0m\u001b[0mdf\u001b[0m\u001b[0;34m)\u001b[0m\u001b[0;34m\u001b[0m\u001b[0;34m\u001b[0m\u001b[0m\n\u001b[1;32m     24\u001b[0m \u001b[0;34m\u001b[0m\u001b[0m\n",
            "\u001b[0;32m/usr/local/lib/python3.10/dist-packages/pandas/io/excel/_base.py\u001b[0m in \u001b[0;36m__init__\u001b[0;34m(self, path_or_buffer, engine, storage_options)\u001b[0m\n\u001b[1;32m   1650\u001b[0m                 \u001b[0mext\u001b[0m \u001b[0;34m=\u001b[0m \u001b[0;34m\"xls\"\u001b[0m\u001b[0;34m\u001b[0m\u001b[0;34m\u001b[0m\u001b[0m\n\u001b[1;32m   1651\u001b[0m             \u001b[0;32melse\u001b[0m\u001b[0;34m:\u001b[0m\u001b[0;34m\u001b[0m\u001b[0;34m\u001b[0m\u001b[0m\n\u001b[0;32m-> 1652\u001b[0;31m                 ext = inspect_excel_format(\n\u001b[0m\u001b[1;32m   1653\u001b[0m                     \u001b[0mcontent_or_path\u001b[0m\u001b[0;34m=\u001b[0m\u001b[0mpath_or_buffer\u001b[0m\u001b[0;34m,\u001b[0m \u001b[0mstorage_options\u001b[0m\u001b[0;34m=\u001b[0m\u001b[0mstorage_options\u001b[0m\u001b[0;34m\u001b[0m\u001b[0;34m\u001b[0m\u001b[0m\n\u001b[1;32m   1654\u001b[0m                 )\n",
            "\u001b[0;32m/usr/local/lib/python3.10/dist-packages/pandas/io/excel/_base.py\u001b[0m in \u001b[0;36minspect_excel_format\u001b[0;34m(content_or_path, storage_options)\u001b[0m\n\u001b[1;32m   1523\u001b[0m         \u001b[0mcontent_or_path\u001b[0m \u001b[0;34m=\u001b[0m \u001b[0mBytesIO\u001b[0m\u001b[0;34m(\u001b[0m\u001b[0mcontent_or_path\u001b[0m\u001b[0;34m)\u001b[0m\u001b[0;34m\u001b[0m\u001b[0;34m\u001b[0m\u001b[0m\n\u001b[1;32m   1524\u001b[0m \u001b[0;34m\u001b[0m\u001b[0m\n\u001b[0;32m-> 1525\u001b[0;31m     with get_handle(\n\u001b[0m\u001b[1;32m   1526\u001b[0m         \u001b[0mcontent_or_path\u001b[0m\u001b[0;34m,\u001b[0m \u001b[0;34m\"rb\"\u001b[0m\u001b[0;34m,\u001b[0m \u001b[0mstorage_options\u001b[0m\u001b[0;34m=\u001b[0m\u001b[0mstorage_options\u001b[0m\u001b[0;34m,\u001b[0m \u001b[0mis_text\u001b[0m\u001b[0;34m=\u001b[0m\u001b[0;32mFalse\u001b[0m\u001b[0;34m\u001b[0m\u001b[0;34m\u001b[0m\u001b[0m\n\u001b[1;32m   1527\u001b[0m     ) as handle:\n",
            "\u001b[0;32m/usr/local/lib/python3.10/dist-packages/pandas/io/common.py\u001b[0m in \u001b[0;36mget_handle\u001b[0;34m(path_or_buf, mode, encoding, compression, memory_map, is_text, errors, storage_options)\u001b[0m\n\u001b[1;32m    711\u001b[0m \u001b[0;34m\u001b[0m\u001b[0m\n\u001b[1;32m    712\u001b[0m     \u001b[0;31m# open URLs\u001b[0m\u001b[0;34m\u001b[0m\u001b[0;34m\u001b[0m\u001b[0m\n\u001b[0;32m--> 713\u001b[0;31m     ioargs = _get_filepath_or_buffer(\n\u001b[0m\u001b[1;32m    714\u001b[0m         \u001b[0mpath_or_buf\u001b[0m\u001b[0;34m,\u001b[0m\u001b[0;34m\u001b[0m\u001b[0;34m\u001b[0m\u001b[0m\n\u001b[1;32m    715\u001b[0m         \u001b[0mencoding\u001b[0m\u001b[0;34m=\u001b[0m\u001b[0mencoding\u001b[0m\u001b[0;34m,\u001b[0m\u001b[0;34m\u001b[0m\u001b[0;34m\u001b[0m\u001b[0m\n",
            "\u001b[0;32m/usr/local/lib/python3.10/dist-packages/pandas/io/common.py\u001b[0m in \u001b[0;36m_get_filepath_or_buffer\u001b[0;34m(filepath_or_buffer, encoding, compression, mode, storage_options)\u001b[0m\n\u001b[1;32m    449\u001b[0m     ):\n\u001b[1;32m    450\u001b[0m         \u001b[0mmsg\u001b[0m \u001b[0;34m=\u001b[0m \u001b[0;34mf\"Invalid file path or buffer object type: {type(filepath_or_buffer)}\"\u001b[0m\u001b[0;34m\u001b[0m\u001b[0;34m\u001b[0m\u001b[0m\n\u001b[0;32m--> 451\u001b[0;31m         \u001b[0;32mraise\u001b[0m \u001b[0mValueError\u001b[0m\u001b[0;34m(\u001b[0m\u001b[0mmsg\u001b[0m\u001b[0;34m)\u001b[0m\u001b[0;34m\u001b[0m\u001b[0;34m\u001b[0m\u001b[0m\n\u001b[0m\u001b[1;32m    452\u001b[0m \u001b[0;34m\u001b[0m\u001b[0m\n\u001b[1;32m    453\u001b[0m     return IOArgs(\n",
            "\u001b[0;31mValueError\u001b[0m: Invalid file path or buffer object type: <class 'NoneType'>"
          ]
        }
      ]
    }
  ]
}