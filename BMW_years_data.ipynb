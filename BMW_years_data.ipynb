{
  "nbformat": 4,
  "nbformat_minor": 0,
  "metadata": {
    "colab": {
      "provenance": [],
      "authorship_tag": "ABX9TyPLT4DGep1uke4DIWJQUuB+",
      "include_colab_link": true
    },
    "kernelspec": {
      "name": "python3",
      "display_name": "Python 3"
    },
    "language_info": {
      "name": "python"
    }
  },
  "cells": [
    {
      "cell_type": "markdown",
      "metadata": {
        "id": "view-in-github",
        "colab_type": "text"
      },
      "source": [
        "<a href=\"https://colab.research.google.com/github/nansjames/BMWDataAnalysing/blob/master/BMW_years_data.ipynb\" target=\"_parent\"><img src=\"https://colab.research.google.com/assets/colab-badge.svg\" alt=\"Open In Colab\"/></a>"
      ]
    },
    {
      "cell_type": "code",
      "execution_count": 94,
      "metadata": {
        "id": "DQGs3EmWxyUs"
      },
      "outputs": [],
      "source": [
        "from google.oauth2 import service_account\n",
        "from googleapiclient.discovery import build\n",
        "\n",
        "\n",
        "sheetMymeType = \"application/vnd.google-apps.spreadsheet\"\n",
        "parent ='1ijfQpSgwwTXSRtG4n4dOGT16CNVCDg8k'\n",
        "\n",
        "SERVICE_ACCOUNT_FILE = '/content/sample_data/credentials (2).json'\n",
        "SCOPES = ['https://www.googleapis.com/auth/drive.readonly']\n",
        "\n",
        "credentials = None\n",
        "credentials = service_account.Credentials.from_service_account_file(\n",
        "        SERVICE_ACCOUNT_FILE, scopes=SCOPES)\n",
        "\n",
        "drive = build('drive', 'v3', credentials=credentials)\n"
      ]
    },
    {
      "cell_type": "code",
      "source": [
        "def get_all_sheets_in_folder():\n",
        "    drive = build('drive', 'v3', credentials=credentials)\n",
        "    sheetMymeType = \"application/vnd.google-apps.spreadsheet\"\n",
        "    parent = 'SOME_FOLDER_ID'\n",
        "    q = \"mimeType = '{}' and parents in '{}'\".format(sheetMymeType, parent)\n",
        "    list = drive.files().list(q=q, fields='files(id)').execute()\n",
        "    print(list)"
      ],
      "metadata": {
        "id": "djS_j4LWdLO8"
      },
      "execution_count": 97,
      "outputs": []
    }
  ]
}